{
 "cells": [
  {
   "cell_type": "code",
   "execution_count": 1,
   "id": "95d5cfd2-e32b-44c5-a657-40f6f6183995",
   "metadata": {},
   "outputs": [
    {
     "ename": "IndentationError",
     "evalue": "unexpected indent (2401666401.py, line 2)",
     "output_type": "error",
     "traceback": [
      "\u001b[1;36m  Cell \u001b[1;32mIn[1], line 2\u001b[1;36m\u001b[0m\n\u001b[1;33m    from sklearn.datasets import load_iris\u001b[0m\n\u001b[1;37m    ^\u001b[0m\n\u001b[1;31mIndentationError\u001b[0m\u001b[1;31m:\u001b[0m unexpected indent\n"
     ]
    }
   ],
   "source": [
    "import pandas as pd\n",
    " from sklearn.datasets import load_iris\n",
    " iris = load_iris()\n",
    " df = pd.DataFrame(data=iris.data, columns=iris.feature_names)\n",
    " df\n",
    "df['species'] = iris.target\n",
    " df\n",
    " X =df.drop('species',axis=1) #Features\n",
    " y =df['species'] #Target\n",
    " print(X)\n",
    "print(y)\n",
    " fromsklearn.model_selectionimport train_test_split\n",
    " X_train,X_test, y_train,y_test= train_test_split(X,y,test_size=0.3,␣\n",
    " ↪random_state=42)\n",
    "print(\"X_train shape:\",X_train.shape)\n",
    " print(\"X_testshape:\",X_test.shape)\n",
    "print(\"y_train shape:\",y_train.shape)\n",
    " print(\"y_testshape:\",y_test.shape)\n",
    "\n",
    "print(\"X_train:\\n\",X_train)\n",
    " print(\"X_test:\\n\",X_test.head())\n",
    "print(\"y_train:\\n\",y_train)\n",
    " print(\"y_test:\\n\",y_test.head())\n",
    "\n",
    "fromsklearn.preprocessingimport StandardScaler\n",
    " scaler =StandardScaler() #mean0andstdof1\n",
    " X_train_scaled= scaler.fit_transform(X_train)\n",
    " X_test_scaled =scaler.transform(X_test)\n",
    "print(X_test_scaled[:5])\n",
    " print(X_train_scaled[:5])\n",
    "\n",
    "\n",
    "from sklearn.neighbors import KNeighborsClassifier\n",
    " knn = KNeighborsClassifier(n_neighbors=5) # You can experiment with different k␣\n",
    " ↪values\n",
    " knn.fit(X_train, y_train) # Train the model\n",
    "y_pred = knn.predict(X_test)\n",
    " y_pred\n",
    "\n",
    "from sklearn.metrics import confusion_matrix\n",
    " print(\"\\nConfusion Matrix:\")\n",
    " cm = confusion_matrix(y_test, y_pred)\n",
    " print(cm)\n",
    " class_names = iris.target_names\n",
    " print(\"\\nConfusion Matrix (labeled):\")\n",
    " print(pd.DataFrame(cm, index=class_names, columns=class_names))\n",
    "\n",
    "from sklearn.metrics import classification_report\n",
    " print(\"Classification Report:\")\n",
    " print(classification_report(y_test, y_pred))\n",
    "\n",
    "from sklearn.metrics import accuracy_score\n",
    " print(\"Accuracy Score:\")\n",
    " print(accuracy_score(y_test, y_pred))\n",
    "\n",
    "import numpy as np\n",
    " new_data = np.array([[5.1, 3.5, 1.4, 0.2]]) # Example data (Sepal Length,␣\n",
    " ↪Sepal Width, Petal Length, Petal Width)\n",
    " new_data_scaled = scaler.transform(new_data) # Scale the new data\n",
    " prediction = knn.predict(new_data_scaled)\n",
    " print(\"\\nPrediction for new data:\", iris.target_names[prediction][0])"
   ]
  },
  {
   "cell_type": "code",
   "execution_count": null,
   "id": "1a953631-d2d3-49b4-9a4f-b9a175eecc9b",
   "metadata": {},
   "outputs": [],
   "source": []
  }
 ],
 "metadata": {
  "kernelspec": {
   "display_name": "Python 3 (ipykernel)",
   "language": "python",
   "name": "python3"
  },
  "language_info": {
   "codemirror_mode": {
    "name": "ipython",
    "version": 3
   },
   "file_extension": ".py",
   "mimetype": "text/x-python",
   "name": "python",
   "nbconvert_exporter": "python",
   "pygments_lexer": "ipython3",
   "version": "3.12.7"
  }
 },
 "nbformat": 4,
 "nbformat_minor": 5
}
