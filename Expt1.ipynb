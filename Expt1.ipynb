{
 "cells": [
  {
   "cell_type": "markdown",
   "id": "9be5263b-2a24-4f79-b59b-2ae0e63d6055",
   "metadata": {},
   "source": [
    "# Expt. 1: Manipulating Single and Multidimensional Arrays using Numpy"
   ]
  },
  {
   "cell_type": "code",
   "execution_count": null,
   "id": "a34af42f-7258-4ded-866e-ccbfbf4810a6",
   "metadata": {},
   "outputs": [],
   "source": [
    "# NumPy (Numerical Python) is a powerful open-source library in Python for numerical and scientific computing. \n",
    "# It provides support for arrays, matrices, and a variety of mathematical functions to operate on these data structures. "
   ]
  },
  {
   "cell_type": "markdown",
   "id": "efb75d29-4f32-4b0a-8232-5adb988706a4",
   "metadata": {},
   "source": [
    "## Creating Arrays from Scratch"
   ]
  },
  {
   "cell_type": "code",
   "execution_count": 4,
   "id": "c9fa7792-ff1f-4ccb-bb2a-1a123885ff92",
   "metadata": {},
   "outputs": [],
   "source": [
    "import numpy as np"
   ]
  },
  {
   "cell_type": "markdown",
   "id": "42f01392-090b-45ba-8704-2ea3abb7ae67",
   "metadata": {},
   "source": [
    "- ### Create a length-10 integer array filled with zeros "
   ]
  },
  {
   "cell_type": "code",
   "execution_count": 9,
   "id": "965740ef-3e40-4420-b133-2314f0e2d647",
   "metadata": {},
   "outputs": [],
   "source": [
    "z = np.zeros(10, dtype=int)"
   ]
  },
  {
   "cell_type": "code",
   "execution_count": 11,
   "id": "3a107619-eabb-43de-a3ad-c96757aa9321",
   "metadata": {},
   "outputs": [
    {
     "name": "stdout",
     "output_type": "stream",
     "text": [
      "[0 0 0 0 0 0 0 0 0 0]\n"
     ]
    }
   ],
   "source": [
    "print(z)"
   ]
  },
  {
   "cell_type": "markdown",
   "id": "a37245e3-c5d3-4ab9-945b-67280c716a96",
   "metadata": {},
   "source": [
    "- ###   Create a 3x5 floating-point array filled with 1s"
   ]
  },
  {
   "cell_type": "code",
   "execution_count": 18,
   "id": "448dc8c0-7468-4a83-8db7-62cfc877f2e4",
   "metadata": {},
   "outputs": [
    {
     "data": {
      "text/plain": [
       "numpy.float64"
      ]
     },
     "execution_count": 18,
     "metadata": {},
     "output_type": "execute_result"
    }
   ],
   "source": [
    "o = np.ones((3,5), dtype=float)\n",
    "type(o[0,0])"
   ]
  },
  {
   "cell_type": "code",
   "execution_count": 12,
   "id": "3b285175-fc5a-413e-870f-b08bdf9c4735",
   "metadata": {},
   "outputs": [
    {
     "name": "stdout",
     "output_type": "stream",
     "text": [
      "[[1. 1. 1. 1. 1.]\n",
      " [1. 1. 1. 1. 1.]\n",
      " [1. 1. 1. 1. 1.]]\n"
     ]
    }
   ],
   "source": [
    "print(o)"
   ]
  },
  {
   "cell_type": "markdown",
   "id": "d7698377-3b22-4eb9-812c-51bd5fde838a",
   "metadata": {},
   "source": [
    "- ###   Create a 3x3 identity matrix "
   ]
  },
  {
   "cell_type": "code",
   "execution_count": 51,
   "id": "a330a527-01e8-4407-8a72-bb75bed244f3",
   "metadata": {},
   "outputs": [],
   "source": [
    "I3 = np.eye(3)"
   ]
  },
  {
   "cell_type": "code",
   "execution_count": 53,
   "id": "051ec8ce-88c5-4742-8ab0-e528ef5eb1ae",
   "metadata": {},
   "outputs": [
    {
     "name": "stdout",
     "output_type": "stream",
     "text": [
      "[[1. 0. 0.]\n",
      " [0. 1. 0.]\n",
      " [0. 0. 1.]]\n"
     ]
    }
   ],
   "source": [
    "print(I3)"
   ]
  },
  {
   "cell_type": "markdown",
   "id": "03178ccb-e3ce-4b7b-8fc5-bd957e45239c",
   "metadata": {},
   "source": [
    "- ###   Create a 3x5 array filled with 3.14 "
   ]
  },
  {
   "cell_type": "code",
   "execution_count": 56,
   "id": "abe7f9da-b3a9-4188-ac9c-1bc97f503564",
   "metadata": {},
   "outputs": [],
   "source": [
    "pi35 = np.full((3, 5), 3.14)"
   ]
  },
  {
   "cell_type": "code",
   "execution_count": 58,
   "id": "7e6a0857-ec89-48fd-bf03-d05d16ac8f2d",
   "metadata": {},
   "outputs": [
    {
     "name": "stdout",
     "output_type": "stream",
     "text": [
      "[[3.14 3.14 3.14 3.14 3.14]\n",
      " [3.14 3.14 3.14 3.14 3.14]\n",
      " [3.14 3.14 3.14 3.14 3.14]]\n"
     ]
    }
   ],
   "source": [
    "print(pi35)"
   ]
  },
  {
   "cell_type": "markdown",
   "id": "5e9452d6-1648-426e-9b14-393dbc525722",
   "metadata": {},
   "source": [
    "- ### Create an array filled with a linear sequence Starting at 0, ending at 20, stepping by 2"
   ]
  },
  {
   "cell_type": "code",
   "execution_count": 61,
   "id": "ca1dcbf3-df2b-4e52-8ad6-bf35b579835f",
   "metadata": {},
   "outputs": [],
   "source": [
    "ls = np.arange(0, 20, 2)"
   ]
  },
  {
   "cell_type": "code",
   "execution_count": 63,
   "id": "97d2d8c0-9c37-43ce-86d5-c064da57b530",
   "metadata": {},
   "outputs": [
    {
     "name": "stdout",
     "output_type": "stream",
     "text": [
      "[ 0  2  4  6  8 10 12 14 16 18]\n"
     ]
    }
   ],
   "source": [
    "print(ls)"
   ]
  },
  {
   "cell_type": "markdown",
   "id": "91e4f759-89d1-495e-aab9-047aad652ebc",
   "metadata": {},
   "source": [
    "- ###   Create an array of five values evenly spaced between 0 and 1 "
   ]
  },
  {
   "cell_type": "code",
   "execution_count": 66,
   "id": "72508713-7cbc-4a43-8a3a-a7d2fbed2099",
   "metadata": {},
   "outputs": [],
   "source": [
    "lsp = np.linspace(0, 1, 5)"
   ]
  },
  {
   "cell_type": "code",
   "execution_count": 68,
   "id": "36dde2d0-aafd-4679-afad-5e4656e17888",
   "metadata": {},
   "outputs": [
    {
     "name": "stdout",
     "output_type": "stream",
     "text": [
      "[0.   0.25 0.5  0.75 1.  ]\n"
     ]
    }
   ],
   "source": [
    "print(lsp)"
   ]
  },
  {
   "cell_type": "markdown",
   "id": "3ceeab1e-3e20-452c-abdf-75291cbffc2d",
   "metadata": {},
   "source": [
    "- ###   Create a 3x3 array of uniformly distributed random values between 0 and 1\n"
   ]
  },
  {
   "cell_type": "code",
   "execution_count": 25,
   "id": "8021f132-efd7-403b-b3af-130653dd9256",
   "metadata": {},
   "outputs": [],
   "source": [
    "xu = np.random.random((3, 3))"
   ]
  },
  {
   "cell_type": "code",
   "execution_count": 27,
   "id": "3f44feb3-7732-4fd2-a896-8b9b22b2e386",
   "metadata": {},
   "outputs": [
    {
     "name": "stdout",
     "output_type": "stream",
     "text": [
      "[[0.24435336 0.6130231  0.49346356]\n",
      " [0.10936225 0.99861476 0.8555111 ]\n",
      " [0.46949479 0.80049615 0.03859137]]\n"
     ]
    }
   ],
   "source": [
    "print(xu)"
   ]
  },
  {
   "cell_type": "markdown",
   "id": "4e6a8525-675f-4d19-8d34-dd8d3260adb7",
   "metadata": {},
   "source": [
    "- ###   Create a 30x30 array of normally distributed random values with mean 0 and standard deviation 1"
   ]
  },
  {
   "cell_type": "code",
   "execution_count": 68,
   "id": "79dd9978-4c90-4ae4-b257-f3b1df27ee12",
   "metadata": {},
   "outputs": [],
   "source": [
    "xn = np.random.normal(0, 1, (30, 30))"
   ]
  },
  {
   "cell_type": "code",
   "execution_count": 70,
   "id": "567e1645-d285-4a84-aa2d-153e0ce156a5",
   "metadata": {},
   "outputs": [
    {
     "name": "stdout",
     "output_type": "stream",
     "text": [
      "0.01744441317079199\n",
      "1.0040557436440993\n"
     ]
    }
   ],
   "source": [
    "# verify mean and standard deviation\n",
    "print(np.mean(xn))\n",
    "print(np.std(xn))"
   ]
  },
  {
   "cell_type": "markdown",
   "id": "3bf728d9-c28e-44c1-8dbb-b83689039eb7",
   "metadata": {},
   "source": [
    "- ###   Create a 3x3 array of random integers in the interval [0, 10)"
   ]
  },
  {
   "cell_type": "code",
   "execution_count": 63,
   "id": "b851a394-ccde-4cb3-b2b5-5ce7bef4aa57",
   "metadata": {},
   "outputs": [],
   "source": [
    "xi = np.random.randint(0, 10, (3, 3))"
   ]
  },
  {
   "cell_type": "code",
   "execution_count": 65,
   "id": "9b922fc5-9e6a-48ba-86be-8a6a98ceb163",
   "metadata": {},
   "outputs": [
    {
     "name": "stdout",
     "output_type": "stream",
     "text": [
      "[[3 8 2]\n",
      " [8 9 8]\n",
      " [5 1 1]]\n"
     ]
    }
   ],
   "source": [
    "print(xi)"
   ]
  },
  {
   "cell_type": "markdown",
   "id": "b4dbe2f8-b10d-4831-934e-d3ba1aaa7e61",
   "metadata": {},
   "source": [
    "- ###   Create an empty array "
   ]
  },
  {
   "cell_type": "code",
   "execution_count": null,
   "id": "2f799fde-a13d-4dca-958a-4ed9a2ae0e47",
   "metadata": {},
   "outputs": [],
   "source": [
    "# the values will be garbage - whatever is stored in memory at that time"
   ]
  },
  {
   "cell_type": "code",
   "execution_count": 83,
   "id": "9d212be4-435e-42f6-9280-c7282f68f83a",
   "metadata": {},
   "outputs": [
    {
     "name": "stdout",
     "output_type": "stream",
     "text": [
      "[[0.00000000e+000 2.86558075e-322 0.00000000e+000 0.00000000e+000]\n",
      " [2.31297541e-312 8.60952352e-072 4.71482719e-090 9.41706372e-047]\n",
      " [1.55051041e+184 6.45489107e+170 3.99910963e+252 2.59819083e-306]]\n"
     ]
    }
   ],
   "source": [
    "xe = np.empty((3,4))\n",
    "print(xe)"
   ]
  },
  {
   "cell_type": "markdown",
   "id": "6f4159eb-32e8-44e0-9387-709f0599a288",
   "metadata": {},
   "source": [
    "- ### Determining the attributes of numpy arrays"
   ]
  },
  {
   "cell_type": "code",
   "execution_count": 96,
   "id": "e101495c-95e3-4503-b283-e8cee9e2c6bf",
   "metadata": {},
   "outputs": [
    {
     "name": "stdout",
     "output_type": "stream",
     "text": [
      "float64\n",
      "12\n",
      "(3, 4)\n",
      "itemsize: 8 bytes\n",
      "nbytes: 96 bytes\n"
     ]
    }
   ],
   "source": [
    "print(xe.dtype)\n",
    "print(xe.size)\n",
    "print(xe.shape)\n",
    "print(\"itemsize:\", xe.itemsize, \"bytes\")\n",
    "print(\"nbytes:\", xe.nbytes, \"bytes\")"
   ]
  },
  {
   "cell_type": "markdown",
   "id": "baf96a94-fa61-4018-b211-29c0e7495b4c",
   "metadata": {},
   "source": [
    "## Creating Arrays from lists"
   ]
  },
  {
   "cell_type": "code",
   "execution_count": 93,
   "id": "0b27983e-0ef8-469c-8d9e-682f387ad142",
   "metadata": {},
   "outputs": [],
   "source": [
    "import numpy as np\n",
    "\n",
    "# Creating a 1D array\n",
    "array_1d = np.array([1, 2, 3])\n",
    "\n",
    "# Creating a 2D array\n",
    "array_2d = np.array([[10, 20, 30], [40, 50, 60]])\n"
   ]
  },
  {
   "cell_type": "markdown",
   "id": "77cd1e5c-d4fd-47b0-a979-fee93dbab0da",
   "metadata": {},
   "source": [
    "## Array Indexing and Slicing"
   ]
  },
  {
   "cell_type": "code",
   "execution_count": 95,
   "id": "e4b3290c-8266-40b5-8ad8-b95f03c04c5f",
   "metadata": {},
   "outputs": [
    {
     "name": "stdout",
     "output_type": "stream",
     "text": [
      "\n",
      "Element at index 2 in 1D array: 3\n",
      "Elements from index 1 to 3 in 1D array: [2 3]\n",
      "\n",
      "Element at row 1, column 2 in 2D array: 60\n",
      "Elements in first two rows and columns 1 and 2:\n",
      "[[20 30]\n",
      " [50 60]]\n"
     ]
    }
   ],
   "source": [
    "# Indexing in 1D array\n",
    "print(\"\\nElement at index 2 in 1D array:\", array_1d[2])\n",
    "\n",
    "# Slicing in 1D array\n",
    "print(\"Elements from index 1 to 3 in 1D array:\", array_1d[1:4])\n",
    "\n",
    "# Indexing in 2D array\n",
    "print(\"\\nElement at row 1, column 2 in 2D array:\", array_2d[1, 2])\n",
    "\n",
    "# Slicing in 2D array\n",
    "print(\"Elements in first two rows and columns 1 and 2:\")\n",
    "print(array_2d[:2, 1:3])"
   ]
  },
  {
   "cell_type": "markdown",
   "id": "d3c6b80e-a62c-4ac4-b0d0-5ce755c238af",
   "metadata": {},
   "source": [
    "## Array Operations"
   ]
  },
  {
   "cell_type": "code",
   "execution_count": 26,
   "id": "752b3e8d-f7cb-4542-bcb2-190a584a1e8b",
   "metadata": {},
   "outputs": [
    {
     "name": "stdout",
     "output_type": "stream",
     "text": [
      "\n",
      "adding 10 to 1D array:\n",
      "[11 12 13]\n",
      "\n",
      "multiply by 2 to 2D array:\n",
      "[[ 20  40  60]\n",
      " [ 80 100 120]]\n"
     ]
    }
   ],
   "source": [
    "#  addition of a scalor\n",
    "array_add = array_1d + 10\n",
    "print(\"\\nadding 10 to 1D array:\")\n",
    "print(array_add)\n",
    "\n",
    "#  multiplication by a scalor\n",
    "array_mul = array_2d * 2\n",
    "print(\"\\nmultiply by 2 to 2D array:\")\n",
    "print(array_mul)"
   ]
  },
  {
   "cell_type": "markdown",
   "id": "623e3c32-c972-4957-bb49-56da962058fc",
   "metadata": {},
   "source": [
    "## Array Broadcasting in NumPy"
   ]
  },
  {
   "cell_type": "code",
   "execution_count": 4,
   "id": "fec233a9-57dc-4074-afdf-5ec4a5a802f2",
   "metadata": {},
   "outputs": [],
   "source": [
    "# Broadcasting is a powerful mechanism that allows NumPy to perform element-wise operations on arrays of different shapes. \n",
    "# It enables arithmetic operations between arrays of different shapes by virtually \n",
    "# expanding the smaller array to match the shape of the larger array without actually copying data."
   ]
  },
  {
   "cell_type": "code",
   "execution_count": 12,
   "id": "2bd1948e-ef52-4ed4-974f-0cf8e53bc499",
   "metadata": {},
   "outputs": [
    {
     "name": "stdout",
     "output_type": "stream",
     "text": [
      "Result of broadcasting 1D array to 2D array:\n",
      "[[11 22 33]\n",
      " [41 52 63]]\n"
     ]
    }
   ],
   "source": [
    "# Broadcasting the 1D array to match the 2D array\n",
    "result = array_2d + array_1d\n",
    "print(\"Result of broadcasting 1D array to 2D array:\")\n",
    "print(result)"
   ]
  },
  {
   "cell_type": "code",
   "execution_count": null,
   "id": "3c25346a-756d-4af6-bd42-6623bb142ab1",
   "metadata": {},
   "outputs": [],
   "source": []
  },
  {
   "cell_type": "markdown",
   "id": "18a74547-0707-4235-9979-d646908a225c",
   "metadata": {},
   "source": [
    "## Reshaping and Flattening Arrays"
   ]
  },
  {
   "cell_type": "code",
   "execution_count": 73,
   "id": "ab67d5e5-06ee-4b84-b666-2821d3350955",
   "metadata": {},
   "outputs": [
    {
     "name": "stdout",
     "output_type": "stream",
     "text": [
      "\n",
      "Reshaped 1D array to 2D array:\n",
      "[[1 2 3]]\n",
      "Original 4x5 matrix:\n",
      "[[8 7 6 7 4]\n",
      " [4 8 2 5 7]\n",
      " [2 8 3 5 4]\n",
      " [7 9 2 4 8]]\n",
      "\n",
      "Reshaped 10x2 matrix:\n",
      "[[8 7]\n",
      " [6 7]\n",
      " [4 4]\n",
      " [8 2]\n",
      " [5 7]\n",
      " [2 8]\n",
      " [3 5]\n",
      " [4 7]\n",
      " [9 2]\n",
      " [4 8]]\n",
      "\n",
      "Flattened 2D array to 1D array:\n",
      "[10 20 30 40 50 60]\n"
     ]
    }
   ],
   "source": [
    "# Reshaping 1D array to 2D array\n",
    "array_reshaped = array_1d.reshape((1, 3))\n",
    "print(\"\\nReshaped 1D array to 2D array:\")\n",
    "print(array_reshaped)\n",
    "\n",
    "# Create a 4x5 matrix with random integers\n",
    "matrix = np.random.randint(1, 10, (4, 5))\n",
    "print(\"Original 4x5 matrix:\")\n",
    "print(matrix)\n",
    "\n",
    "# Reshape the 4x5 matrix to a 10x2 matrix\n",
    "reshaped_matrix = matrix.reshape(10, 2)\n",
    "print(\"\\nReshaped 10x2 matrix:\")\n",
    "print(reshaped_matrix)\n",
    "\n",
    "# Flattening 2D array to 1D array\n",
    "array_flattened = array_2d.flatten()\n",
    "print(\"\\nFlattened 2D array to 1D array:\")\n",
    "print(array_flattened)\n"
   ]
  },
  {
   "cell_type": "markdown",
   "id": "5138e3af-8740-4eda-aebb-5ff2e282b2e0",
   "metadata": {},
   "source": [
    "## Combining Arrays"
   ]
  },
  {
   "cell_type": "code",
   "execution_count": 17,
   "id": "787ee508-cd66-46fd-847e-5ef955dcf6f2",
   "metadata": {},
   "outputs": [
    {
     "name": "stdout",
     "output_type": "stream",
     "text": [
      "\n",
      "Vertical Stack of 1D array:\n",
      "[[1 2 3]\n",
      " [1 2 3]]\n",
      "\n",
      "Horizontal Stack of 1D array:\n",
      "[1 2 3 1 2 3]\n"
     ]
    }
   ],
   "source": [
    "# Vertical stack\n",
    "array_vstack = np.vstack((array_1d, array_1d))\n",
    "print(\"\\nVertical Stack of 1D array:\")\n",
    "print(array_vstack)\n",
    "\n",
    "# Horizontal stack\n",
    "array_hstack = np.hstack((array_1d, array_1d))\n",
    "print(\"\\nHorizontal Stack of 1D array:\")\n",
    "print(array_hstack)\n"
   ]
  },
  {
   "cell_type": "markdown",
   "id": "a1c53254-af5f-4d6f-bd67-1c60e15492f9",
   "metadata": {},
   "source": [
    "## Mathematical Operations on Arrays"
   ]
  },
  {
   "cell_type": "markdown",
   "id": "56ccd68a-4bb9-4adb-b4b1-315b2dbc7320",
   "metadata": {},
   "source": [
    "- ### Element wise operations on two arrays"
   ]
  },
  {
   "cell_type": "code",
   "execution_count": 20,
   "id": "082442e7-2869-4305-bc93-bc9d34db41cc",
   "metadata": {},
   "outputs": [
    {
     "name": "stdout",
     "output_type": "stream",
     "text": [
      "[5 7 9]\n"
     ]
    }
   ],
   "source": [
    "# you may perform point by point arithmetic operations by using +,-,* and / operators\n",
    "# for this the dimensions of the arrays being performed must be same\n",
    "import numpy as np\n",
    "\n",
    "array1 = np.array([1, 2, 3])\n",
    "array2 = np.array([4, 5, 6])\n",
    "\n",
    "sum_array = array1 + array2       # Element-wise addition\n",
    "diff_array = array1 - array2      # Element-wise subtraction\n",
    "product_array = array1 * array2   # Element-wise multiplication\n",
    "quotient_array = array1 / array2  # Element-wise division\n",
    "print(sum_array)"
   ]
  },
  {
   "cell_type": "markdown",
   "id": "d893a801-6031-486e-98df-20a58413c976",
   "metadata": {},
   "source": [
    "- ### Dot product"
   ]
  },
  {
   "cell_type": "code",
   "execution_count": 26,
   "id": "f6018940-1e7c-4b17-bde3-24f689939231",
   "metadata": {},
   "outputs": [
    {
     "name": "stdout",
     "output_type": "stream",
     "text": [
      "32\n"
     ]
    }
   ],
   "source": [
    "dot_product = np.dot(array1, array2)\n",
    "print(dot_product)"
   ]
  },
  {
   "cell_type": "code",
   "execution_count": 35,
   "id": "8775a353-c780-4b07-81d8-b890e3feca9a",
   "metadata": {},
   "outputs": [
    {
     "name": "stdout",
     "output_type": "stream",
     "text": [
      "[[19 22]\n",
      " [43 50]]\n"
     ]
    }
   ],
   "source": [
    "### Matrix Multiplication\n",
    "matrix1 = np.array([[1, 2], [3, 4]])\n",
    "matrix2 = np.array([[5, 6], [7, 8]])\n",
    "\n",
    "matrix_product = np.matmul(matrix1, matrix2)\n",
    "print(matrix_product)"
   ]
  },
  {
   "cell_type": "markdown",
   "id": "1c6573c0-6ec3-4777-a259-ce93c71986b2",
   "metadata": {},
   "source": [
    "- ### Statistcal Operations"
   ]
  },
  {
   "cell_type": "code",
   "execution_count": 57,
   "id": "b1de6912-9442-4dae-9620-248e29440c69",
   "metadata": {},
   "outputs": [
    {
     "name": "stdout",
     "output_type": "stream",
     "text": [
      "sum = 6, mean = 2.0, median = 2.0, standard deviation = 0.816496580927726\n",
      "minimum = 1, maximum = 3\n",
      "[1 3 6]\n"
     ]
    }
   ],
   "source": [
    "mean_value = np.mean(array1)\n",
    "median_value = np.median(array1)\n",
    "std_deviation = np.std(array1)\n",
    "total_sum = np.sum(array1)\n",
    "cum_sum = np.cumsum(array1)\n",
    "min_value = np.min(array1)\n",
    "max_value = np.max(array1)\n",
    "print(f\"sum = {total_sum}, mean = {mean_value}, median = {median_value}, standard deviation = {std_deviation}\")\n",
    "print(f\"minimum = {min_value}, maximum = {max_value}\")\n",
    "print(cum_sum)\n"
   ]
  },
  {
   "cell_type": "markdown",
   "id": "161ce386-f426-42b2-9e87-7d500511b8a8",
   "metadata": {},
   "source": [
    "- ### Logical Opeartions"
   ]
  },
  {
   "cell_type": "code",
   "execution_count": 59,
   "id": "7889cb6c-f1d4-4ef3-a22d-41ec603422f8",
   "metadata": {},
   "outputs": [
    {
     "name": "stdout",
     "output_type": "stream",
     "text": [
      "[False False  True]\n",
      "[False  True False]\n",
      "[ True  True  True]\n"
     ]
    }
   ],
   "source": [
    "comparison = array1 > 2\n",
    "logical_and = np.logical_and(array1 > 1, array2 < 6)\n",
    "logical_or = np.logical_or(array1 < 2, array2 > 4)\n",
    "print(comparison)\n",
    "print(logical_and)\n",
    "print(logical_or)"
   ]
  },
  {
   "cell_type": "markdown",
   "id": "80e9a890-bf32-4ed2-b7a4-24b65ac28b45",
   "metadata": {},
   "source": [
    "- ### Linear Algebra Operations on Arrays"
   ]
  },
  {
   "cell_type": "code",
   "execution_count": 69,
   "id": "29efb506-ec0f-4ac5-acf3-3fabade31298",
   "metadata": {},
   "outputs": [
    {
     "name": "stdout",
     "output_type": "stream",
     "text": [
      "Integer Array:\n",
      "[[41 70 19]\n",
      " [75 16 42]\n",
      " [30 51 34]]\n",
      "\n",
      "Float Array:\n",
      "[[0.09537898 0.74989384 0.88042468]\n",
      " [0.75514478 0.27058141 0.74759311]\n",
      " [0.80770673 0.41991634 0.91614173]]\n",
      "\n",
      "--- Dot Product ---\n",
      "\n",
      "Dot product of integer array with itself:\n",
      "[[7501 4959 4365]\n",
      " [5535 7648 3525]\n",
      " [6075 4650 3868]]\n",
      "\n",
      "--- Matrix Multiplication ---\n",
      "\n",
      "Matrix multiplication of integer array with float array:\n",
      "[[ 72.1171004   57.6647566  105.83562278]\n",
      " [ 53.15942245  78.20782674 116.4712937 ]\n",
      " [ 68.83578177  50.57362277  95.68880802]]\n",
      "\n",
      "Matrix multiplication using @ operator:\n",
      "[[ 72.1171004   57.6647566  105.83562278]\n",
      " [ 53.15942245  78.20782674 116.4712937 ]\n",
      " [ 68.83578177  50.57362277  95.68880802]]\n",
      "\n",
      "--- Determinant ---\n",
      "\n",
      "Determinant of integer array:\n",
      "-92263.0\n",
      "\n",
      "Determinant of float array:\n",
      "0.014486582619305756\n",
      "\n",
      "--- Inverse ---\n",
      "\n",
      "Inverse of integer array:\n",
      "[[ 1.73200525e-02  1.52932378e-02 -2.85704996e-02]\n",
      " [ 1.39817695e-02 -8.93099075e-03  3.21905856e-03]\n",
      " [-3.62550535e-02 -9.75472291e-05  4.97924412e-02]]\n",
      "\n",
      "Inverse of float array:\n",
      "[[ -4.55840053 -21.9033244   22.25431089]\n",
      " [ -6.07345821 -43.05668868  40.9719428 ]\n",
      " [  6.80265396  39.04599991 -37.30835968]]\n",
      "\n",
      "--- Eigenvalues and Eigenvectors ---\n",
      "\n",
      "Eigenvalues of integer array:\n",
      "[127.44072272  14.27501566 -50.71573838]\n",
      "\n",
      "Eigenvectors of integer array:\n",
      "[[-0.60298318 -0.48708743  0.54424785]\n",
      " [-0.60276101 -0.05069047 -0.78983615]\n",
      " [-0.52258058  0.8718809   0.28275983]]\n",
      "\n",
      "Eigenvalues of float array:\n",
      "[ 1.92507684 -0.63104984 -0.01192489]\n",
      "\n",
      "Eigenvectors of float array:\n",
      "[[-0.53424647 -0.83997371 -0.36596226]\n",
      " [-0.53833647  0.4386211  -0.68598541]\n",
      " [-0.65174731  0.31946157  0.62888445]]\n"
     ]
    }
   ],
   "source": [
    "import numpy as np\n",
    "\n",
    "# Creating integer array (2-D array)\n",
    "int_array = np.random.randint(1, 100, size=(3, 3))\n",
    "\n",
    "# Creating float array (2-D array)\n",
    "float_array = np.random.random((3, 3))\n",
    "\n",
    "print(\"Integer Array:\")\n",
    "print(int_array)\n",
    "\n",
    "print(\"\\nFloat Array:\")\n",
    "print(float_array)\n",
    "\n",
    "# Dot Product\n",
    "print(\"\\n--- Dot Product ---\")\n",
    "dot_product = np.dot(int_array, int_array)\n",
    "print(\"\\nDot product of integer array with itself:\")\n",
    "print(dot_product)\n",
    "\n",
    "# Matrix Multiplication\n",
    "print(\"\\n--- Matrix Multiplication ---\")\n",
    "matrix_multiplication = np.matmul(int_array, float_array)\n",
    "print(\"\\nMatrix multiplication of integer array with float array:\")\n",
    "print(matrix_multiplication)\n",
    "\n",
    "# Matrix multiplication using @ operator\n",
    "matrix_multiplication_at = int_array @ float_array\n",
    "print(\"\\nMatrix multiplication using @ operator:\")\n",
    "print(matrix_multiplication_at)\n",
    "\n",
    "# Determinant\n",
    "print(\"\\n--- Determinant ---\")\n",
    "determinant_int = np.linalg.det(int_array)\n",
    "determinant_float = np.linalg.det(float_array)\n",
    "print(\"\\nDeterminant of integer array:\")\n",
    "print(determinant_int)\n",
    "print(\"\\nDeterminant of float array:\")\n",
    "print(determinant_float)\n",
    "\n",
    "# Inverse\n",
    "print(\"\\n--- Inverse ---\")\n",
    "inverse_int = np.linalg.inv(int_array)\n",
    "inverse_float = np.linalg.inv(float_array)\n",
    "print(\"\\nInverse of integer array:\")\n",
    "print(inverse_int)\n",
    "print(\"\\nInverse of float array:\")\n",
    "print(inverse_float)\n",
    "\n",
    "# Eigenvalues and Eigenvectors\n",
    "print(\"\\n--- Eigenvalues and Eigenvectors ---\")\n",
    "eigenvalues_int, eigenvectors_int = np.linalg.eig(int_array)\n",
    "eigenvalues_float, eigenvectors_float = np.linalg.eig(float_array)\n",
    "print(\"\\nEigenvalues of integer array:\")\n",
    "print(eigenvalues_int)\n",
    "print(\"\\nEigenvectors of integer array:\")\n",
    "print(eigenvectors_int)\n",
    "print(\"\\nEigenvalues of float array:\")\n",
    "print(eigenvalues_float)\n",
    "print(\"\\nEigenvectors of float array:\")\n",
    "print(eigenvectors_float)\n"
   ]
  },
  {
   "cell_type": "code",
   "execution_count": null,
   "id": "9f928c10-ee41-4ce8-b4aa-e8dc72179222",
   "metadata": {},
   "outputs": [],
   "source": []
  }
 ],
 "metadata": {
  "kernelspec": {
   "display_name": "Python 3 (ipykernel)",
   "language": "python",
   "name": "python3"
  },
  "language_info": {
   "codemirror_mode": {
    "name": "ipython",
    "version": 3
   },
   "file_extension": ".py",
   "mimetype": "text/x-python",
   "name": "python",
   "nbconvert_exporter": "python",
   "pygments_lexer": "ipython3",
   "version": "3.12.4"
  }
 },
 "nbformat": 4,
 "nbformat_minor": 5
}
