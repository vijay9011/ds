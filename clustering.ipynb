{
 "cells": [
  {
   "cell_type": "code",
   "execution_count": null,
   "id": "c9d9e081-89a9-4703-8a61-7db56396ed55",
   "metadata": {},
   "outputs": [],
   "source": [
    "import numpy as np\n",
    " X=[[3,280],[5,320],[8,80],[2,225],[5,80],[6,265],[1,71],[5,235],[7,98],[4,300],[2,210]]\n",
    " Xarr = np.array(X)\n",
    "from sklearn.cluster import KMeans\n",
    " kmeans=KMeans(n_clusters=4)\n",
    " kmeans=kmeans.fit(X) # Fitting the input data\n",
    " kmeans\n",
    "\n",
    "centroids = kmeans.cluster_centers_\n",
    " print(\"\\nCluster centers are :\")\n",
    " for i, center in enumerate(centroids):\n",
    " print(f\"Cluster {i+1} center: [{center[0]:.2f}, {center[1]:.2f}]\")\n",
    "\n",
    "     labels=kmeans.predict(X)\n",
    " print(\"\\nCluster labels are :\\n\",labels)\n",
    "\n",
    "import matplotlib.pyplot as plt\n",
    " colors=['r','g','b','y']\n",
    " fig, ax = plt.subplots(figsize=(10, 6))\n",
    " for i in range(4):\n",
    " points = np.array([Xarr[j] for j in range(len(Xarr)) if labels[j] == i])\n",
    " ax.scatter(points[:, 0], points[:, 1], s=100, c=colors[i],\n",
    " alpha=0.6, edgecolors='k', label=f\"Cluster {i}\")\n",
    " ax.scatter(centroids[i, 0], centroids[i, 1], marker='X', s=300,\n",
    " c=colors[i], edgecolor='white', linewidth=2, label=f\"Centroid␣\n",
    " ↪{i}\")\n",
    " for point in points:\n",
    " ax.plot([point[0], centroids[i, 0]], [point[1], centroids[i, 1]],\n",
    " color=colors[i], linestyle='--', alpha=0.5)\n",
    " ax.set_title(\"K-Means Clustering\", fontsize=16)\n",
    " ax.set_xlabel(\"X-axis Feature\", fontsize=14)\n",
    " ax.set_ylabel(\"Y-axis Feature\", fontsize=14)\n",
    " ax.legend(fontsize=12)\n",
    " ax.grid(True, linestyle='--', alpha=0.7)\n",
    " ax.set_xlim(0, 10)\n",
    " ax.set_ylim(0, 350)\n",
    " plt.tight_layout()\n",
    " plt.show()\n",
    "\n",
    "xnew=[[4,200]]\n",
    " print(\"Actual Output :-\")\n",
    " print(\"\\nPattern \",xnew,\" belongs to Cluster \",kmeans.predict(xnew))"
   ]
  }
 ],
 "metadata": {
  "kernelspec": {
   "display_name": "Python 3 (ipykernel)",
   "language": "python",
   "name": "python3"
  },
  "language_info": {
   "codemirror_mode": {
    "name": "ipython",
    "version": 3
   },
   "file_extension": ".py",
   "mimetype": "text/x-python",
   "name": "python",
   "nbconvert_exporter": "python",
   "pygments_lexer": "ipython3",
   "version": "3.12.7"
  }
 },
 "nbformat": 4,
 "nbformat_minor": 5
}
