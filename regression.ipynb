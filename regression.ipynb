{
 "cells": [
  {
   "cell_type": "code",
   "execution_count": 1,
   "id": "fca26569-56c9-4dc8-9542-b2333c6f9738",
   "metadata": {},
   "outputs": [
    {
     "ename": "IndentationError",
     "evalue": "unexpected indent (4261054699.py, line 2)",
     "output_type": "error",
     "traceback": [
      "\u001b[1;36m  Cell \u001b[1;32mIn[1], line 2\u001b[1;36m\u001b[0m\n\u001b[1;33m    data = {\u001b[0m\n\u001b[1;37m    ^\u001b[0m\n\u001b[1;31mIndentationError\u001b[0m\u001b[1;31m:\u001b[0m unexpected indent\n"
     ]
    }
   ],
   "source": [
    "import pandas as pd\n",
    " data = {\n",
    " 'Rooms': [3, 4, 2, 5, 3, 4, 6, 5, 2, 3, 4, 5, 6, 4, 3],\n",
    " 'Size_in_SqFt': [1500, 1700, 1200, 2000, 1600, 1750, 2200, 1900, 1100,␣\n",
    " 1450, 1600, 1800, 2100, 1550, 1300],\n",
    " 'Distance_to_City': [10, 15, 8, 12, 10, 18, 25, 15, 5, 12, 10, 20, 25, 15,␣\n",
    " 7],\n",
    " 'Age_of_House': [10, 5, 20, 15, 8, 12, 4, 7, 30, 12, 6, 10, 5, 15, 20],\n",
    " 'Bathrooms': [2, 3, 1, 3, 2, 2, 4, 3, 1, 2, 3, 3, 4, 2, 1],\n",
    " 'Price_in_Thousands': [300, 450, 200, 500, 350, 470, 600, 520, 190, 310,␣\n",
    " 400, 480, 590, 360, 220]\n",
    " }\n",
    " df = pd.DataFrame(data)\n",
    " df\n",
    "\n",
    "X = df.drop('Price_in_Thousands', axis=1) # Features- Target variable is␣dropped\n",
    " y = df['Price_in_Thousands'] # Target (Price)\n",
    "print(X)\n",
    " print(y)\n",
    "\n",
    " fromsklearn.model_selectionimport train_test_split\n",
    " X_train,X_test, y_train,y_test= train_test_split(X,y,test_size=0.25,random_state=30)\n",
    "\n",
    " print(\"X_train shape:\",X_train.shape)\n",
    " print(\"X_testshape:\",X_test.shape)\n",
    " print(\"y_train shape:\",y_train.shape)\n",
    " print(\"y_testshape:\",y_test.shape)\n",
    "\n",
    "print(\"X_train:\\n\",X_train)\n",
    "print(\"X_test:\\n\",X_test)\n",
    "print(\"y_train:\\n\",y_train)\n",
    "print(\"y_test:\\n\",y_test)\n",
    "\n",
    "fromsklearn.preprocessingimport StandardScaler\n",
    " scaler =StandardScaler()\n",
    " X_train_scaled= scaler.fit_transform(X_train)\n",
    " X_test_scaled =scaler.transform(X_test)\n",
    "\n",
    " print(X_test_scaled)\n",
    "print(X_train_scaled)\n",
    "\n",
    "from sklearn.neighbors import KNeighborsRegressor\n",
    " knn_regressor = KNeighborsRegressor(n_neighbors=2,metric='manhattan') # You␣can change the number of neighbors (k)\n",
    " knn_regressor.fit(X_train_scaled, y_train) # This line trains (fits) the KNN␣model using the training data.\n",
    "\n",
    "y_pred = knn_regressor.predict(X_test_scaled)\n",
    " y_pred\n",
    "\n",
    "from sklearn.metrics import mean_squared_error, r2_score\n",
    " mse = mean_squared_error(y_test, y_pred)\n",
    " r2 = r2_score(y_test, y_pred)\n",
    " print(\"Mean Squared Error:\", mse)\n",
    " print(\"R-squared value:\", r2)\n",
    "\n",
    "comparison_df = pd.DataFrame({'Actual': y_test, 'Predicted': y_pred})\n",
    " print(comparison_df)\n",
    "\n",
    "import matplotlib.pyplot as plt\n",
    " plt.scatter(y_test, y_pred, color='blue')\n",
    " plt.plot([min(y_test), max(y_test)], [min(y_test), max(y_test)], color='red',␣\n",
    " ↪linestyle='--')\n",
    " plt.xlabel('Actual House Prices (in Thousands $)')\n",
    " plt.ylabel('Predicted House Prices (in Thousands $)')\n",
    " plt.title('Actual vs Predicted House Prices')\n",
    " plt.show()"
   ]
  },
  {
   "cell_type": "code",
   "execution_count": null,
   "id": "b00a27e8-6522-4cf4-815f-e24135344447",
   "metadata": {},
   "outputs": [],
   "source": []
  }
 ],
 "metadata": {
  "kernelspec": {
   "display_name": "Python 3 (ipykernel)",
   "language": "python",
   "name": "python3"
  },
  "language_info": {
   "codemirror_mode": {
    "name": "ipython",
    "version": 3
   },
   "file_extension": ".py",
   "mimetype": "text/x-python",
   "name": "python",
   "nbconvert_exporter": "python",
   "pygments_lexer": "ipython3",
   "version": "3.12.7"
  }
 },
 "nbformat": 4,
 "nbformat_minor": 5
}
